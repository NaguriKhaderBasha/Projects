{
 "cells": [
  {
   "cell_type": "code",
   "execution_count": 1,
   "id": "788d1609",
   "metadata": {},
   "outputs": [
    {
     "name": "stdout",
     "output_type": "stream",
     "text": [
      "the sum of the digits is  18\n",
      "the factorial of the number is  6402373705728000\n",
      "the average of the digits is 6.0\n"
     ]
    }
   ],
   "source": [
    "n=int(input(\"enter the number  :  \"))     \n",
    "count=0    \n",
    "sum1=0\n",
    "fac=1\n",
    "i=1\n",
    "while(n>0):\n",
    "    r=n%10\n",
    "    sum1=sum1+r\n",
    "    n=n//10\n",
    "    count+=1\n",
    "print('the sum of the digits is ',sum1)\n",
    "while(i<=sum1):\n",
    "    fac=fac*i\n",
    "    i=i+1\n",
    "print(\"the factorial of the number is \",fac)\n",
    "\n",
    "print(\"the average of the digits is\",sum1/count)\n",
    "    "
   ]
  },
  {
   "cell_type": "code",
   "execution_count": 2,
   "id": "e979631b",
   "metadata": {},
   "outputs": [
    {
     "data": {
      "text/plain": [
       "3628800"
      ]
     },
     "execution_count": 2,
     "metadata": {},
     "output_type": "execute_result"
    }
   ],
   "source": [
    "10*9*8*7*6*5*4*3*2*1"
   ]
  },
  {
   "cell_type": "code",
   "execution_count": 3,
   "id": "f2b4495f",
   "metadata": {},
   "outputs": [
    {
     "name": "stdout",
     "output_type": "stream",
     "text": [
      "the reversed number is  90890809809\n"
     ]
    }
   ],
   "source": [
    "n=int(input(\"enter the number  :  \"))\n",
    "rev=0\n",
    "while(n>0):\n",
    "    r=n%10\n",
    "    rev=rev*10+r\n",
    "    n=n//10\n",
    "print(\"the reversed number is \",rev)"
   ]
  },
  {
   "cell_type": "code",
   "execution_count": 4,
   "id": "75a801bf",
   "metadata": {},
   "outputs": [
    {
     "data": {
      "text/plain": [
       "153"
      ]
     },
     "execution_count": 4,
     "metadata": {},
     "output_type": "execute_result"
    }
   ],
   "source": [
    "#palindrome or not\n",
    "1**3+5**3+3**3"
   ]
  },
  {
   "cell_type": "code",
   "execution_count": null,
   "id": "0995ef4a",
   "metadata": {},
   "outputs": [],
   "source": []
  },
  {
   "cell_type": "code",
   "execution_count": 39,
   "id": "721972f9",
   "metadata": {},
   "outputs": [
    {
     "name": "stdout",
     "output_type": "stream",
     "text": [
      "enter the number12321\n",
      "12321\n",
      "0\n",
      "12321\n",
      "palindrome\n"
     ]
    }
   ],
   "source": [
    "a=int(input('enter the number')) \n",
    "a1=a#123\n",
    "\n",
    "n=0\n",
    "while(a>0):\n",
    "    q=a%10\n",
    "    n=n*10+q\n",
    "    a=a//10\n",
    "print(n)\n",
    "print(a1)\n",
    "if a1==n:\n",
    "    print('palindrome')\n",
    "else:\n",
    "    print('not a palindrome')\n",
    "    \n",
    "    "
   ]
  },
  {
   "cell_type": "code",
   "execution_count": 19,
   "id": "475746ef",
   "metadata": {},
   "outputs": [
    {
     "name": "stdout",
     "output_type": "stream",
     "text": [
      "enter the number1234\n",
      "4\n",
      "10\n",
      "2.5\n"
     ]
    }
   ],
   "source": [
    "a=int(input('enter the number'))   #123\n",
    "count=0\n",
    "add=0\n",
    "while(a>0):\n",
    "    j=a%10\n",
    "    add=add+j\n",
    "    count=count+1\n",
    "    a=a//10\n",
    "print(count)\n",
    "print(add)\n",
    "avg=add/count\n",
    "print(avg)"
   ]
  },
  {
   "cell_type": "code",
   "execution_count": 41,
   "id": "a78ec415",
   "metadata": {},
   "outputs": [
    {
     "name": "stdout",
     "output_type": "stream",
     "text": [
      "enter the num :123\n",
      "the number is not a amstrong \n"
     ]
    }
   ],
   "source": [
    "a=int(input('enter the num :'))#153\n",
    "a1=a\n",
    "m=a\n",
    "count=0\n",
    "sum=0\n",
    "while(a>0):\n",
    "    n=a%10  \n",
    "    count=count+1\n",
    "    a=a//10\n",
    "while(a1>0):\n",
    "    r=a1%10\n",
    "    sum=sum+r**count\n",
    "    a1=a1//10\n",
    "if(m==sum):\n",
    "    print(\"it is  a amstrong number  \")\n",
    "else:\n",
    "    print(\"the number is not a amstrong \")\n",
    "\n",
    "    \n",
    "    \n",
    "    "
   ]
  },
  {
   "cell_type": "code",
   "execution_count": 18,
   "id": "743e11b7",
   "metadata": {},
   "outputs": [
    {
     "data": {
      "text/plain": [
       "1"
      ]
     },
     "execution_count": 18,
     "metadata": {},
     "output_type": "execute_result"
    }
   ],
   "source": [
    "1%10"
   ]
  },
  {
   "cell_type": "markdown",
   "id": "b2224c47",
   "metadata": {},
   "source": [
    "### 0**4\n"
   ]
  },
  {
   "cell_type": "code",
   "execution_count": 12,
   "id": "175f0457",
   "metadata": {},
   "outputs": [
    {
     "data": {
      "text/plain": [
       "1"
      ]
     },
     "execution_count": 12,
     "metadata": {},
     "output_type": "execute_result"
    }
   ],
   "source": [
    "15//10"
   ]
  },
  {
   "cell_type": "code",
   "execution_count": 13,
   "id": "99c82252",
   "metadata": {},
   "outputs": [
    {
     "data": {
      "text/plain": [
       "0"
      ]
     },
     "execution_count": 13,
     "metadata": {},
     "output_type": "execute_result"
    }
   ],
   "source": [
    "1//10"
   ]
  },
  {
   "cell_type": "code",
   "execution_count": 45,
   "id": "983bc83c",
   "metadata": {},
   "outputs": [
    {
     "name": "stdout",
     "output_type": "stream",
     "text": [
      "enter the string   :   and\n",
      "the word is present inside the string \n"
     ]
    }
   ],
   "source": [
    "n=input(\"enter the string   :  \")\n",
    "a=\"and\"\n",
    "if a in n:\n",
    "    print(\"the word is present inside the string \")\n",
    "else:\n",
    "    print(\"the string is not present\")"
   ]
  },
  {
   "cell_type": "code",
   "execution_count": 49,
   "id": "f3f4bfbc",
   "metadata": {},
   "outputs": [
    {
     "name": "stdout",
     "output_type": "stream",
     "text": [
      "enter the string to compute integers inside a string   : spiwqjdid157410-30\n",
      "15741030"
     ]
    }
   ],
   "source": [
    "n=input(\"enter the string to compute integers inside a string   : \")\n",
    "for i in n:\n",
    "    if i.isdigit():\n",
    "        print(i,end='')\n"
   ]
  },
  {
   "cell_type": "code",
   "execution_count": 4,
   "id": "f178c1f4",
   "metadata": {},
   "outputs": [
    {
     "name": "stdout",
     "output_type": "stream",
     "text": [
      "NUHN\n"
     ]
    }
   ],
   "source": [
    "m=input(\"enter the string  :  \")\n",
    "a=m.upper()\n",
    "print(a)"
   ]
  },
  {
   "cell_type": "code",
   "execution_count": 56,
   "id": "29cd57ce",
   "metadata": {},
   "outputs": [],
   "source": [
    "n='Siva'\n",
    "\n"
   ]
  },
  {
   "cell_type": "code",
   "execution_count": 57,
   "id": "86daee18",
   "metadata": {},
   "outputs": [
    {
     "name": "stdout",
     "output_type": "stream",
     "text": [
      "sIVA\n"
     ]
    }
   ],
   "source": [
    "m=n.swapcase()\n",
    "print(m)"
   ]
  },
  {
   "cell_type": "code",
   "execution_count": 59,
   "id": "365e34f9",
   "metadata": {},
   "outputs": [
    {
     "name": "stdout",
     "output_type": "stream",
     "text": [
      "enter the string 5s5d5t6TRE3SEDYT6rerYTD235434ERLNIGYFU\n",
      "the number of the capital letters is  20\n",
      "the number of the small letters is equal to  6\n"
     ]
    }
   ],
   "source": [
    "m=input('enter the string ')\n",
    "count=0\n",
    "count1=0\n",
    "for i in m:\n",
    "    if i.isupper():\n",
    "        count+=1\n",
    "    elif i.islower():\n",
    "        count1+=1\n",
    "print(\"the number of the capital letters is \",count)\n",
    "print(\"the number of the small letters is equal to \",count1)\n",
    "\n",
    "    "
   ]
  },
  {
   "cell_type": "code",
   "execution_count": 61,
   "id": "cc61775b",
   "metadata": {},
   "outputs": [
    {
     "data": {
      "text/plain": [
       "4"
      ]
     },
     "execution_count": 61,
     "metadata": {},
     "output_type": "execute_result"
    }
   ],
   "source": [
    "a='4'\n",
    "int(a)"
   ]
  },
  {
   "cell_type": "code",
   "execution_count": null,
   "id": "e4c42a92",
   "metadata": {},
   "outputs": [],
   "source": [
    "\n",
    "\n",
    "\n",
    "\n",
    "    "
   ]
  },
  {
   "cell_type": "code",
   "execution_count": 6,
   "id": "f68c63e0",
   "metadata": {
    "scrolled": true
   },
   "outputs": [
    {
     "name": "stdout",
     "output_type": "stream",
     "text": [
      "['s', 'i', 'v', 'a']\n",
      "['a', 'i', 's', 'v']\n"
     ]
    },
    {
     "ename": "NameError",
     "evalue": "name 'y' is not defined",
     "output_type": "error",
     "traceback": [
      "\u001b[1;31m---------------------------------------------------------------------------\u001b[0m",
      "\u001b[1;31mNameError\u001b[0m                                 Traceback (most recent call last)",
      "Cell \u001b[1;32mIn[6], line 6\u001b[0m\n\u001b[0;32m      4\u001b[0m m\u001b[39m.\u001b[39msort()\n\u001b[0;32m      5\u001b[0m \u001b[39mprint\u001b[39m(m)\n\u001b[1;32m----> 6\u001b[0m y\u001b[39m.\u001b[39mjoin(m)\n",
      "\u001b[1;31mNameError\u001b[0m: name 'y' is not defined"
     ]
    }
   ],
   "source": [
    "a='siva'\n",
    "m=list(a)\n",
    "print(m)\n",
    "m.sort()\n",
    "print(m)\n",
    "y.join(m)\n"
   ]
  },
  {
   "cell_type": "code",
   "execution_count": 12,
   "id": "2c16e2e0",
   "metadata": {},
   "outputs": [
    {
     "name": "stdout",
     "output_type": "stream",
     "text": [
      "*****\n",
      "*****\n",
      "*****\n",
      "*****\n",
      "*****\n"
     ]
    }
   ],
   "source": [
    "n=int(input('enter the number of rows'))\n",
    "for i in range(n):\n",
    "    print('*'*n)\n"
   ]
  },
  {
   "cell_type": "code",
   "execution_count": 103,
   "id": "b624389d",
   "metadata": {},
   "outputs": [
    {
     "name": "stdout",
     "output_type": "stream",
     "text": [
      "enter the num : 12\n",
      "*\n",
      "**\n",
      "***\n",
      "****\n",
      "*****\n",
      "******\n",
      "*******\n",
      "********\n",
      "*********\n",
      "**********\n",
      "***********\n",
      "************\n"
     ]
    }
   ],
   "source": [
    "a=int(input('enter the num : '))\n",
    "for i in range(1,a+1):\n",
    "    print('*'*i)\n",
    "    \n",
    "      "
   ]
  },
  {
   "cell_type": "code",
   "execution_count": 134,
   "id": "881f5bb8",
   "metadata": {},
   "outputs": [
    {
     "name": "stdout",
     "output_type": "stream",
     "text": [
      "enter the num : 5\n",
      "    * \n",
      "   * * \n",
      "  * * * \n",
      " * * * * \n",
      "* * * * * \n"
     ]
    }
   ],
   "source": [
    "a=int(input('enter the num : '))\n",
    "for i in range(1,a+1):\n",
    "\n",
    "    print((a-i)*(' ')+(\"* \")*i)"
   ]
  },
  {
   "cell_type": "code",
   "execution_count": 141,
   "id": "103c27bc",
   "metadata": {},
   "outputs": [
    {
     "name": "stdout",
     "output_type": "stream",
     "text": [
      "enter the number :6\n",
      "* * * * * \n",
      " * * * * \n",
      "  * * * \n",
      "   * * \n",
      "    * \n"
     ]
    }
   ],
   "source": [
    "p=int(input('enter the number :'))\n",
    "for i in range(a,0,-1):\n",
    "    print((a-i)*(' ')+('* ')*i)\n"
   ]
  },
  {
   "cell_type": "code",
   "execution_count": 14,
   "id": "bc4b3a9c",
   "metadata": {},
   "outputs": [
    {
     "name": "stdout",
     "output_type": "stream",
     "text": [
      "ahsab\n"
     ]
    }
   ],
   "source": [
    "a=input(\"enter the string\")\n",
    "b=''\n",
    "for i in range(len(a)-1,-1,-1):\n",
    "    b=b+a[i]\n",
    "print(b)"
   ]
  },
  {
   "cell_type": "code",
   "execution_count": 3,
   "id": "fc3a982d",
   "metadata": {},
   "outputs": [
    {
     "data": {
      "text/plain": [
       "'v'"
      ]
     },
     "execution_count": 3,
     "metadata": {},
     "output_type": "execute_result"
    }
   ],
   "source": [
    "a='siva'\n",
    "a[2]"
   ]
  },
  {
   "cell_type": "code",
   "execution_count": 5,
   "id": "04ef51eb",
   "metadata": {},
   "outputs": [
    {
     "name": "stdout",
     "output_type": "stream",
     "text": [
      "enter the number  :  232746\n",
      "6\n"
     ]
    }
   ],
   "source": [
    "#counting no of digits in a number\n",
    "a=int(input('enter the number  :  '))\n",
    "count=0\n",
    "while(a>0):\n",
    "    a=a//10\n",
    "    count=count+1\n",
    "print(count)"
   ]
  },
  {
   "cell_type": "code",
   "execution_count": 1,
   "id": "772d0716",
   "metadata": {},
   "outputs": [
    {
     "data": {
      "text/plain": [
       "5"
      ]
     },
     "execution_count": 1,
     "metadata": {},
     "output_type": "execute_result"
    }
   ],
   "source": [
    "10//2\n"
   ]
  },
  {
   "cell_type": "code",
   "execution_count": 2,
   "id": "b3b5bc73",
   "metadata": {},
   "outputs": [
    {
     "data": {
      "text/plain": [
       "4"
      ]
     },
     "execution_count": 2,
     "metadata": {},
     "output_type": "execute_result"
    }
   ],
   "source": [
    "9//2\n"
   ]
  },
  {
   "cell_type": "code",
   "execution_count": 3,
   "id": "1193021e",
   "metadata": {},
   "outputs": [
    {
     "data": {
      "text/plain": [
       "23274"
      ]
     },
     "execution_count": 3,
     "metadata": {},
     "output_type": "execute_result"
    }
   ],
   "source": [
    "232746//10"
   ]
  },
  {
   "cell_type": "code",
   "execution_count": 10,
   "id": "ad16aa44",
   "metadata": {},
   "outputs": [
    {
     "data": {
      "text/plain": [
       "21"
      ]
     },
     "execution_count": 10,
     "metadata": {},
     "output_type": "execute_result"
    }
   ],
   "source": [
    "87//4\n"
   ]
  },
  {
   "cell_type": "code",
   "execution_count": 15,
   "id": "f56dc999",
   "metadata": {},
   "outputs": [
    {
     "name": "stdout",
     "output_type": "stream",
     "text": [
      "[2, 3, 4, 5]\n",
      "14\n"
     ]
    }
   ],
   "source": [
    "x=int(input(\"enter the size of array : \"))\n",
    "k=[]\n",
    "sum=0\n",
    "while (x>0):\n",
    "    n=int(input(\"enter the array : \"))\n",
    "    x=x-1\n",
    "    k=k+[n]\n",
    "    sum=sum+n\n",
    "print(k)\n",
    "print(sum)\n"
   ]
  },
  {
   "cell_type": "code",
   "execution_count": 17,
   "id": "213a20d7",
   "metadata": {},
   "outputs": [
    {
     "ename": "TypeError",
     "evalue": "map() must have at least two arguments.",
     "output_type": "error",
     "traceback": [
      "\u001b[1;31m---------------------------------------------------------------------------\u001b[0m",
      "\u001b[1;31mTypeError\u001b[0m                                 Traceback (most recent call last)",
      "Cell \u001b[1;32mIn[17], line 2\u001b[0m\n\u001b[0;32m      1\u001b[0m n \u001b[39m=\u001b[39m \u001b[39minput\u001b[39m()\n\u001b[1;32m----> 2\u001b[0m arr \u001b[39m=\u001b[39m \u001b[39mmap\u001b[39;49m(\u001b[39minput\u001b[39;49m()\u001b[39m.\u001b[39;49msplit())\n\u001b[0;32m      3\u001b[0m \u001b[39mprint\u001b[39m(\u001b[39msum\u001b[39m(arr))\n",
      "\u001b[1;31mTypeError\u001b[0m: map() must have at least two arguments."
     ]
    }
   ],
   "source": [
    "n = input()\n",
    "arr = map(input().split())\n",
    "print(sum(arr))"
   ]
  },
  {
   "cell_type": "code",
   "execution_count": 19,
   "id": "e553585c",
   "metadata": {},
   "outputs": [
    {
     "name": "stdout",
     "output_type": "stream",
     "text": [
      "List of students:  [4, 5, 6, 7]\n"
     ]
    }
   ],
   "source": [
    "x = list(map(int, input(\"Enter multiple values: \").split()))  \n",
    "print(\"List of students: \", x)  "
   ]
  },
  {
   "cell_type": "code",
   "execution_count": 20,
   "id": "9fa5ff94",
   "metadata": {},
   "outputs": [
    {
     "data": {
      "text/plain": [
       "22"
      ]
     },
     "execution_count": 20,
     "metadata": {},
     "output_type": "execute_result"
    }
   ],
   "source": [
    "def simpleArraySum(x):\n",
    "    num = 0\n",
    "    for i in x:\n",
    "        num+= i\n",
    "    return num\n",
    "simpleArraySum(x)"
   ]
  },
  {
   "cell_type": "code",
   "execution_count": 21,
   "id": "61b42195",
   "metadata": {},
   "outputs": [
    {
     "data": {
      "text/plain": [
       "[3]"
      ]
     },
     "execution_count": 21,
     "metadata": {},
     "output_type": "execute_result"
    }
   ],
   "source": [
    "x=int(input(\"enter the size of array : \"))\n",
    "#n=int(input(\"enter the array : \"))\n",
    "entries = list(map(int, input().split())) \n",
    "entrie=list(entries)\n",
    "entrie"
   ]
  },
  {
   "cell_type": "code",
   "execution_count": 23,
   "id": "058ec5fc",
   "metadata": {},
   "outputs": [
    {
     "ename": "ValueError",
     "evalue": "invalid literal for int() with base 10: 'khader'",
     "output_type": "error",
     "traceback": [
      "\u001b[1;31m---------------------------------------------------------------------------\u001b[0m",
      "\u001b[1;31mValueError\u001b[0m                                Traceback (most recent call last)",
      "Cell \u001b[1;32mIn[23], line 1\u001b[0m\n\u001b[1;32m----> 1\u001b[0m n\u001b[39m=\u001b[39m\u001b[39mint\u001b[39;49m(\u001b[39minput\u001b[39;49m(\u001b[39m6\u001b[39;49m))\n\u001b[0;32m      2\u001b[0m x\u001b[39m=\u001b[39m\u001b[39mmap\u001b[39m(\u001b[39mint\u001b[39m, \u001b[39minput\u001b[39m()\u001b[39m.\u001b[39msplit(\u001b[39m\"\u001b[39m\u001b[39m \u001b[39m\u001b[39m\"\u001b[39m,n))\n\u001b[0;32m      3\u001b[0m \u001b[39mprint\u001b[39m(\u001b[39msum\u001b[39m(x))\n",
      "\u001b[1;31mValueError\u001b[0m: invalid literal for int() with base 10: 'khader'"
     ]
    }
   ],
   "source": [
    "n=int(input(6))\n",
    "x=map(int, input().split(\" \",n))\n",
    "print(sum(x))\n"
   ]
  },
  {
   "cell_type": "code",
   "execution_count": 12,
   "id": "eda91839",
   "metadata": {},
   "outputs": [
    {
     "name": "stdout",
     "output_type": "stream",
     "text": [
      " 4\n",
      "1 2 3 4\n",
      "10\n"
     ]
    }
   ],
   "source": [
    "n=int(input(\" \"))\n",
    "x=map(int,input().split(\" \",n))\n",
    "y=str(sum(x))\n",
    "c=y.replace(\" \",\"\")\n",
    "d=int(c)\n",
    "print(d)"
   ]
  },
  {
   "cell_type": "code",
   "execution_count": null,
   "id": "7743030e",
   "metadata": {},
   "outputs": [],
   "source": []
  }
 ],
 "metadata": {
  "kernelspec": {
   "display_name": "Python 3 (ipykernel)",
   "language": "python",
   "name": "python3"
  },
  "language_info": {
   "codemirror_mode": {
    "name": "ipython",
    "version": 3
   },
   "file_extension": ".py",
   "mimetype": "text/x-python",
   "name": "python",
   "nbconvert_exporter": "python",
   "pygments_lexer": "ipython3",
   "version": "3.10.4"
  }
 },
 "nbformat": 4,
 "nbformat_minor": 5
}
