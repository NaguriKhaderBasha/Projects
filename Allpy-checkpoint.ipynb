{
 "cells": [
  {
   "cell_type": "code",
   "execution_count": 1,
   "id": "5346af4a",
   "metadata": {},
   "outputs": [],
   "source": [
    "import statistics"
   ]
  },
  {
   "cell_type": "code",
   "execution_count": 2,
   "id": "c75991fb",
   "metadata": {},
   "outputs": [
    {
     "name": "stdout",
     "output_type": "stream",
     "text": [
      "32\n"
     ]
    }
   ],
   "source": [
    "import statistics\n",
    "x=(25,30,41)\n",
    "p=statistics.mean(x)\n",
    "print(p)"
   ]
  },
  {
   "cell_type": "code",
   "execution_count": 3,
   "id": "ba8e738b",
   "metadata": {},
   "outputs": [
    {
     "data": {
      "text/plain": [
       "tuple"
      ]
     },
     "execution_count": 3,
     "metadata": {},
     "output_type": "execute_result"
    }
   ],
   "source": [
    "type(x)"
   ]
  },
  {
   "cell_type": "code",
   "execution_count": 4,
   "id": "e4261d7b",
   "metadata": {},
   "outputs": [
    {
     "data": {
      "text/plain": [
       "96"
      ]
     },
     "execution_count": 4,
     "metadata": {},
     "output_type": "execute_result"
    }
   ],
   "source": [
    "25+30+41"
   ]
  },
  {
   "cell_type": "code",
   "execution_count": 5,
   "id": "9497a6ec",
   "metadata": {},
   "outputs": [
    {
     "data": {
      "text/plain": [
       "32.0"
      ]
     },
     "execution_count": 5,
     "metadata": {},
     "output_type": "execute_result"
    }
   ],
   "source": [
    "96/3"
   ]
  },
  {
   "cell_type": "code",
   "execution_count": 6,
   "id": "c5d43017",
   "metadata": {},
   "outputs": [
    {
     "name": "stdout",
     "output_type": "stream",
     "text": [
      "30\n"
     ]
    }
   ],
   "source": [
    "import statistics\n",
    "x=(25,30,41)\n",
    "p=statistics.median(x)\n",
    "print(p)"
   ]
  },
  {
   "cell_type": "code",
   "execution_count": 7,
   "id": "34ba5b4a",
   "metadata": {},
   "outputs": [
    {
     "name": "stdout",
     "output_type": "stream",
     "text": [
      "25\n"
     ]
    }
   ],
   "source": [
    "import statistics\n",
    "x=(25,30,41)\n",
    "p=statistics.mode(x)\n",
    "print(p)"
   ]
  },
  {
   "cell_type": "code",
   "execution_count": 8,
   "id": "7dab5ecb",
   "metadata": {},
   "outputs": [
    {
     "name": "stdout",
     "output_type": "stream",
     "text": [
      "[2, 3, 4, 6, 7, 27, 38, 46, 64]\n"
     ]
    }
   ],
   "source": [
    "j=(27,3,46,2,38,64,7,4,6)\n",
    "sort1=sorted(j)\n",
    "print(sort1)"
   ]
  },
  {
   "cell_type": "code",
   "execution_count": 9,
   "id": "6b31214e",
   "metadata": {},
   "outputs": [
    {
     "name": "stdout",
     "output_type": "stream",
     "text": [
      "[64, 46, 38, 27, 7, 6, 4, 3, 2]\n"
     ]
    }
   ],
   "source": [
    "j=(27,3,46,2,38,64,7,4,6)\n",
    "sort1=sorted(j,reverse=True)\n",
    "print(sort1)"
   ]
  },
  {
   "cell_type": "code",
   "execution_count": 10,
   "id": "c9c542f1",
   "metadata": {},
   "outputs": [
    {
     "name": "stdout",
     "output_type": "stream",
     "text": [
      "['realme', 'oneplus']\n",
      "['apple', 'samung', 'mi']\n",
      "['apple', 'samung', 'mi', 'realme', 'oneplus']\n"
     ]
    }
   ],
   "source": [
    "tech_companies=['apple','samung','mi',['realme','oneplus']]\n",
    "last=tech_companies[-1]\n",
    "print(last)\n",
    "res=tech_companies[:-1]\n",
    "print(res)\n",
    "tot=res+last\n",
    "print(tot)"
   ]
  },
  {
   "cell_type": "code",
   "execution_count": 11,
   "id": "c87b3671",
   "metadata": {},
   "outputs": [
    {
     "name": "stdout",
     "output_type": "stream",
     "text": [
      "['apple', 'samung', 'mi', 'realme', 'oneplus']\n"
     ]
    }
   ],
   "source": [
    "tech_companies.remove(last)\n",
    "tech_companies.extend(last)\n",
    "print(tech_companies)"
   ]
  },
  {
   "cell_type": "code",
   "execution_count": 12,
   "id": "b88de6bb",
   "metadata": {},
   "outputs": [
    {
     "data": {
      "text/plain": [
       "tuple"
      ]
     },
     "execution_count": 12,
     "metadata": {},
     "output_type": "execute_result"
    }
   ],
   "source": [
    "my_tuple=(1,)\n",
    "type(my_tuple)"
   ]
  },
  {
   "cell_type": "code",
   "execution_count": 27,
   "id": "42d631c7",
   "metadata": {},
   "outputs": [
    {
     "name": "stdout",
     "output_type": "stream",
     "text": [
      "8\n"
     ]
    },
    {
     "data": {
      "text/plain": [
       "1"
      ]
     },
     "execution_count": 27,
     "metadata": {},
     "output_type": "execute_result"
    }
   ],
   "source": [
    "my_tuple1=(1,23,76,8,90,54)\n",
    "print(my_tuple1[3])\n",
    "my_tuple1.index(23)"
   ]
  },
  {
   "cell_type": "code",
   "execution_count": 14,
   "id": "2bf33dbe",
   "metadata": {},
   "outputs": [
    {
     "data": {
      "text/plain": [
       "5"
      ]
     },
     "execution_count": 14,
     "metadata": {},
     "output_type": "execute_result"
    }
   ],
   "source": [
    "list1=[3,25,4,36,53,43]\n",
    "#list1[4]\n",
    "list1.index(43)"
   ]
  },
  {
   "cell_type": "code",
   "execution_count": 15,
   "id": "73d81cee",
   "metadata": {},
   "outputs": [
    {
     "data": {
      "text/plain": [
       "2"
      ]
     },
     "execution_count": 15,
     "metadata": {},
     "output_type": "execute_result"
    }
   ],
   "source": [
    "my_tuple1=(1,23,76,8,90,54)\n",
    "my_tuple1.index(76)"
   ]
  },
  {
   "cell_type": "code",
   "execution_count": 16,
   "id": "4dd66fe4",
   "metadata": {},
   "outputs": [
    {
     "name": "stdout",
     "output_type": "stream",
     "text": [
      "[1, 8, 23, 54, 76, 90]\n"
     ]
    }
   ],
   "source": [
    "l=sorted(my_tuple1)\n",
    "print(l)"
   ]
  },
  {
   "cell_type": "code",
   "execution_count": 17,
   "id": "d7241658",
   "metadata": {},
   "outputs": [],
   "source": [
    "#list.append,count,extend,index,insert,pop,remove,reverse,sort\n",
    "#set.add,update,remove,.union,intesection,difference,symmetric\n",
    "#dict.{keys:values},items(),get(''),update({''})"
   ]
  },
  {
   "cell_type": "code",
   "execution_count": 28,
   "id": "411276f5",
   "metadata": {},
   "outputs": [],
   "source": [
    "firstname=['Khader','vinay','july']\n",
    "lastname=['Basha','nalagatla',2003]\n"
   ]
  },
  {
   "cell_type": "code",
   "execution_count": 29,
   "id": "0f77bc68",
   "metadata": {},
   "outputs": [
    {
     "name": "stdout",
     "output_type": "stream",
     "text": [
      "[('Khader', 'Basha'), ('vinay', 'nalagatla'), ('july', 2003)]\n"
     ]
    }
   ],
   "source": [
    "mix=list(zip(firstname,lastname))\n",
    "print(mix)"
   ]
  },
  {
   "cell_type": "code",
   "execution_count": 20,
   "id": "0522bf59",
   "metadata": {},
   "outputs": [
    {
     "name": "stdout",
     "output_type": "stream",
     "text": [
      "{1, 2, 4, 10, 13}\n"
     ]
    }
   ],
   "source": [
    "asj={2,4,1,8,13,10}\n",
    "asj.remove(8)\n",
    "print(asj)"
   ]
  },
  {
   "cell_type": "code",
   "execution_count": 21,
   "id": "8803e9be",
   "metadata": {},
   "outputs": [
    {
     "data": {
      "text/plain": [
       "{4, 8, 10}"
      ]
     },
     "execution_count": 21,
     "metadata": {},
     "output_type": "execute_result"
    }
   ],
   "source": [
    "a={2,4,1,8,13,10}\n",
    "b={3,4,6,7,8,9,10}\n",
    "#a.union(b)\n",
    "a.intersection(b)"
   ]
  },
  {
   "cell_type": "code",
   "execution_count": 22,
   "id": "7967f0f2",
   "metadata": {},
   "outputs": [
    {
     "data": {
      "text/plain": [
       "{1, 2, 3, 4, 6, 7, 8, 9, 10, 13}"
      ]
     },
     "execution_count": 22,
     "metadata": {},
     "output_type": "execute_result"
    }
   ],
   "source": [
    "a={2,4,1,8,13,10}\n",
    "b={3,4,6,7,8,9,10}\n",
    "a.union(b)"
   ]
  },
  {
   "cell_type": "code",
   "execution_count": 23,
   "id": "f5565a89",
   "metadata": {},
   "outputs": [
    {
     "data": {
      "text/plain": [
       "{4, 8, 10}"
      ]
     },
     "execution_count": 23,
     "metadata": {},
     "output_type": "execute_result"
    }
   ],
   "source": [
    "a&b"
   ]
  },
  {
   "cell_type": "code",
   "execution_count": 24,
   "id": "7e31e5fe",
   "metadata": {},
   "outputs": [
    {
     "data": {
      "text/plain": [
       "{1, 2, 13}"
      ]
     },
     "execution_count": 24,
     "metadata": {},
     "output_type": "execute_result"
    }
   ],
   "source": [
    "a.difference(b)"
   ]
  },
  {
   "cell_type": "code",
   "execution_count": 25,
   "id": "973cfb94",
   "metadata": {},
   "outputs": [
    {
     "data": {
      "text/plain": [
       "{3, 6, 7, 9}"
      ]
     },
     "execution_count": 25,
     "metadata": {},
     "output_type": "execute_result"
    }
   ],
   "source": [
    "b.difference(a)"
   ]
  },
  {
   "cell_type": "code",
   "execution_count": 26,
   "id": "72535d4e",
   "metadata": {},
   "outputs": [
    {
     "data": {
      "text/plain": [
       "{1, 2, 13}"
      ]
     },
     "execution_count": 26,
     "metadata": {},
     "output_type": "execute_result"
    }
   ],
   "source": [
    "a-b"
   ]
  },
  {
   "cell_type": "code",
   "execution_count": 27,
   "id": "ae86b5d1",
   "metadata": {},
   "outputs": [
    {
     "data": {
      "text/plain": [
       "{1, 2, 3, 6, 7, 9, 13}"
      ]
     },
     "execution_count": 27,
     "metadata": {},
     "output_type": "execute_result"
    }
   ],
   "source": [
    "a.symmetric_difference(b)"
   ]
  },
  {
   "cell_type": "code",
   "execution_count": 28,
   "id": "1a2e8df6",
   "metadata": {},
   "outputs": [
    {
     "data": {
      "text/plain": [
       "{1, 2, 3, 6, 7, 9, 13}"
      ]
     },
     "execution_count": 28,
     "metadata": {},
     "output_type": "execute_result"
    }
   ],
   "source": [
    "a^b"
   ]
  },
  {
   "cell_type": "code",
   "execution_count": 29,
   "id": "95188bb2",
   "metadata": {},
   "outputs": [],
   "source": [
    "marvel_dict={'Name':'Thor','place':'asard','weapon':['hammer','katthi']}"
   ]
  },
  {
   "cell_type": "code",
   "execution_count": 30,
   "id": "a2ff6cc6",
   "metadata": {},
   "outputs": [
    {
     "data": {
      "text/plain": [
       "'asard'"
      ]
     },
     "execution_count": 30,
     "metadata": {},
     "output_type": "execute_result"
    }
   ],
   "source": [
    "marvel_dict['place']"
   ]
  },
  {
   "cell_type": "code",
   "execution_count": 31,
   "id": "171fbe84",
   "metadata": {},
   "outputs": [
    {
     "data": {
      "text/plain": [
       "['hammer', 'katthi']"
      ]
     },
     "execution_count": 31,
     "metadata": {},
     "output_type": "execute_result"
    }
   ],
   "source": [
    "marvel_dict['weapon']"
   ]
  },
  {
   "cell_type": "code",
   "execution_count": 32,
   "id": "7878c9f3",
   "metadata": {},
   "outputs": [
    {
     "data": {
      "text/plain": [
       "dict_keys(['Name', 'place', 'weapon'])"
      ]
     },
     "execution_count": 32,
     "metadata": {},
     "output_type": "execute_result"
    }
   ],
   "source": [
    "marvel_dict.keys()"
   ]
  },
  {
   "cell_type": "code",
   "execution_count": 33,
   "id": "be32cd6b",
   "metadata": {},
   "outputs": [
    {
     "data": {
      "text/plain": [
       "dict_values(['Thor', 'asard', ['hammer', 'katthi']])"
      ]
     },
     "execution_count": 33,
     "metadata": {},
     "output_type": "execute_result"
    }
   ],
   "source": [
    "marvel_dict.values()"
   ]
  },
  {
   "cell_type": "code",
   "execution_count": 34,
   "id": "6556abd2",
   "metadata": {},
   "outputs": [
    {
     "data": {
      "text/plain": [
       "['Name', 'place', 'weapon']"
      ]
     },
     "execution_count": 34,
     "metadata": {},
     "output_type": "execute_result"
    }
   ],
   "source": [
    "list(marvel_dict.keys())"
   ]
  },
  {
   "cell_type": "code",
   "execution_count": 35,
   "id": "009326cc",
   "metadata": {
    "scrolled": true
   },
   "outputs": [
    {
     "data": {
      "text/plain": [
       "dict_items([('Name', 'Thor'), ('place', 'asard'), ('weapon', ['hammer', 'katthi'])])"
      ]
     },
     "execution_count": 35,
     "metadata": {},
     "output_type": "execute_result"
    }
   ],
   "source": [
    "marvel_dict.items()"
   ]
  },
  {
   "cell_type": "code",
   "execution_count": 36,
   "id": "0adb9b24",
   "metadata": {},
   "outputs": [
    {
     "data": {
      "text/plain": [
       "'goli'"
      ]
     },
     "execution_count": 36,
     "metadata": {},
     "output_type": "execute_result"
    }
   ],
   "source": [
    "marvel_dict.get('friend','goli')"
   ]
  },
  {
   "cell_type": "code",
   "execution_count": 37,
   "id": "74d4d81e",
   "metadata": {},
   "outputs": [
    {
     "data": {
      "text/plain": [
       "3"
      ]
     },
     "execution_count": 37,
     "metadata": {},
     "output_type": "execute_result"
    }
   ],
   "source": [
    "len(marvel_dict.keys())"
   ]
  },
  {
   "cell_type": "code",
   "execution_count": 38,
   "id": "67a3b23e",
   "metadata": {},
   "outputs": [
    {
     "data": {
      "text/plain": [
       "'HAMMER'"
      ]
     },
     "execution_count": 38,
     "metadata": {},
     "output_type": "execute_result"
    }
   ],
   "source": [
    "marvel_dict['weapon'][0].upper()"
   ]
  },
  {
   "cell_type": "code",
   "execution_count": 39,
   "id": "c312945a",
   "metadata": {},
   "outputs": [],
   "source": [
    "marvel_dict['frend']='khader'"
   ]
  },
  {
   "cell_type": "code",
   "execution_count": 40,
   "id": "5adb3ba2",
   "metadata": {},
   "outputs": [
    {
     "data": {
      "text/plain": [
       "{'Name': 'Thor',\n",
       " 'place': 'asard',\n",
       " 'weapon': ['hammer', 'katthi'],\n",
       " 'frend': 'khader'}"
      ]
     },
     "execution_count": 40,
     "metadata": {},
     "output_type": "execute_result"
    }
   ],
   "source": [
    "marvel_dict"
   ]
  },
  {
   "cell_type": "code",
   "execution_count": 41,
   "id": "6780191e",
   "metadata": {},
   "outputs": [],
   "source": [
    "marvel_dict.update({'frends':'nonew'})"
   ]
  },
  {
   "cell_type": "code",
   "execution_count": 42,
   "id": "c5b6a742",
   "metadata": {},
   "outputs": [
    {
     "data": {
      "text/plain": [
       "{'Name': 'Thor',\n",
       " 'place': 'asard',\n",
       " 'weapon': ['hammer', 'katthi'],\n",
       " 'frend': 'khader',\n",
       " 'frends': 'nonew'}"
      ]
     },
     "execution_count": 42,
     "metadata": {},
     "output_type": "execute_result"
    }
   ],
   "source": [
    "marvel_dict"
   ]
  },
  {
   "cell_type": "code",
   "execution_count": 43,
   "id": "86b9a287",
   "metadata": {},
   "outputs": [
    {
     "name": "stdout",
     "output_type": "stream",
     "text": [
      "apple company\n",
      "samung company\n",
      "mi company\n",
      "realme company\n",
      "oneplus company\n"
     ]
    }
   ],
   "source": [
    "companies=['apple','samung','mi','realme','oneplus']\n",
    "for i in companies:\n",
    "    print(f'{i} company')"
   ]
  },
  {
   "cell_type": "code",
   "execution_count": 44,
   "id": "a1fa4a22",
   "metadata": {},
   "outputs": [
    {
     "name": "stdout",
     "output_type": "stream",
     "text": [
      "1 apple\n",
      "2 samung\n",
      "3 mi\n",
      "4 realme\n",
      "5 oneplus\n"
     ]
    }
   ],
   "source": [
    "for number,i in enumerate(companies):\n",
    "    print(number+1,i)"
   ]
  },
  {
   "cell_type": "code",
   "execution_count": 45,
   "id": "e426483c",
   "metadata": {},
   "outputs": [
    {
     "data": {
      "text/plain": [
       "['oneplus', 'realme', 'mi', 'samung', 'apple']"
      ]
     },
     "execution_count": 45,
     "metadata": {},
     "output_type": "execute_result"
    }
   ],
   "source": [
    "companies[::-1]"
   ]
  },
  {
   "cell_type": "code",
   "execution_count": 46,
   "id": "dff36aa3",
   "metadata": {},
   "outputs": [
    {
     "name": "stdout",
     "output_type": "stream",
     "text": [
      "[1, 4, 9, 16, 25, 36, 49, 64]\n",
      "[1, 2, 3, 4, 5, 6, 7, 8]\n",
      "{1: 1, 2: 4, 3: 9, 4: 16, 5: 25, 6: 36, 7: 49, 8: 64}\n"
     ]
    }
   ],
   "source": [
    "numbers=[1,2,3,4,5,6,7,8]\n",
    "squared=[]\n",
    "for i in numbers:\n",
    "    square=i**2\n",
    "    squared.append(square)\n",
    "    #squared=squared+list(square)\n",
    "print(squared)\n",
    "print(numbers)\n",
    "zipped=dict(zip(numbers ,squared))\n",
    "print(zipped)"
   ]
  },
  {
   "cell_type": "code",
   "execution_count": 47,
   "id": "450a5e24",
   "metadata": {},
   "outputs": [
    {
     "name": "stdout",
     "output_type": "stream",
     "text": [
      "The letter is  K\n",
      "The letter is  e\n",
      "The letter is  e\n",
      "The letter is  p\n",
      "The letter is   \n",
      "The letter is  s\n",
      "The letter is  m\n",
      "The letter is  i\n",
      "The letter is  l\n",
      "The letter is  i\n",
      "The letter is  n\n",
      "The letter is  g\n",
      "The letter is  ,\n",
      "The letter is   \n",
      "The letter is  b\n",
      "The letter is  e\n",
      "The letter is  c\n",
      "The letter is  a\n",
      "The letter is  u\n",
      "The letter is  s\n",
      "The letter is  e\n",
      "The letter is   \n",
      "The letter is  l\n",
      "The letter is  i\n",
      "The letter is  f\n",
      "The letter is  e\n",
      "The letter is   \n",
      "The letter is  i\n",
      "The letter is  s\n",
      "The letter is   \n",
      "The letter is  a\n",
      "The letter is   \n",
      "The letter is  b\n",
      "The letter is  e\n",
      "The letter is  a\n",
      "The letter is  u\n",
      "The letter is  t\n",
      "The letter is  i\n",
      "The letter is  f\n",
      "The letter is  u\n",
      "The letter is  l\n",
      "The letter is   \n",
      "The letter is  t\n",
      "The letter is  h\n",
      "The letter is  i\n",
      "The letter is  n\n",
      "The letter is  g\n",
      "The letter is   \n",
      "The letter is  a\n",
      "The letter is  n\n",
      "The letter is  d\n",
      "The letter is   \n",
      "The letter is  t\n",
      "The letter is  h\n",
      "The letter is  e\n",
      "The letter is  r\n",
      "The letter is  e\n",
      "The letter is  '\n",
      "The letter is  s\n",
      "The letter is   \n",
      "The letter is  s\n",
      "The letter is  o\n",
      "The letter is   \n",
      "The letter is  m\n",
      "The letter is  u\n",
      "The letter is  c\n",
      "The letter is  h\n",
      "The letter is   \n",
      "The letter is  t\n",
      "The letter is  o\n",
      "The letter is   \n",
      "The letter is  s\n",
      "The letter is  m\n",
      "The letter is  i\n",
      "The letter is  l\n",
      "The letter is  e\n",
      "The letter is   \n",
      "The letter is  a\n",
      "The letter is  b\n",
      "The letter is  o\n",
      "The letter is  u\n",
      "The letter is  t\n"
     ]
    }
   ],
   "source": [
    "quote=\"Keep smiling, because life is a beautiful thing and there's so much to smile about\"\n",
    "for char in quote:\n",
    "    print(\"The letter is \",char)"
   ]
  },
  {
   "cell_type": "code",
   "execution_count": 48,
   "id": "f476893c",
   "metadata": {},
   "outputs": [
    {
     "name": "stdout",
     "output_type": "stream",
     "text": [
      "['Keep', 'smiling,', 'because', 'life', 'is', 'a', 'beautiful', 'thing', 'and', \"there's\", 'so', 'much', 'to', 'smile', 'about']\n"
     ]
    }
   ],
   "source": [
    "quote=\"Keep smiling, because life is a beautiful thing and there's so much to smile about\"\n",
    "words=quote.split(' ')\n",
    "print(words)\n",
    "    "
   ]
  },
  {
   "cell_type": "code",
   "execution_count": 49,
   "id": "68fd394a",
   "metadata": {},
   "outputs": [
    {
     "name": "stdout",
     "output_type": "stream",
     "text": [
      "the word is Keep\n",
      "the word is smiling,\n",
      "the word is because\n",
      "the word is life\n",
      "the word is is\n",
      "the word is beautiful\n",
      "the word is thing\n",
      "the word is and\n",
      "the word is there's\n",
      "the word is so\n",
      "the word is much\n",
      "the word is to\n",
      "the word is smile\n",
      "the word is about\n"
     ]
    }
   ],
   "source": [
    "for i in words:\n",
    "    if i not in ['a']:\n",
    "        \n",
    "        print(f\"the word is {i}\")"
   ]
  },
  {
   "cell_type": "code",
   "execution_count": 2,
   "id": "68df9698",
   "metadata": {},
   "outputs": [
    {
     "name": "stdout",
     "output_type": "stream",
     "text": [
      "The capital of telangana is hyderabad\n",
      "The capital of andhra is vizag\n",
      "The capital of tn is chennai\n"
     ]
    }
   ],
   "source": [
    "capitals=[('telangana','hyderabad'),('andhra','vizag'),('tn','chennai')]\n",
    "for i,j in capitals:\n",
    "    print(f\"The capital of {i} is {j}\")"
   ]
  },
  {
   "cell_type": "code",
   "execution_count": 3,
   "id": "dca338f0",
   "metadata": {},
   "outputs": [
    {
     "name": "stdout",
     "output_type": "stream",
     "text": [
      "1\n",
      "2\n",
      "3\n"
     ]
    }
   ],
   "source": [
    "x=0\n",
    "while x<10:\n",
    "    x=x+1\n",
    "    print(x)\n",
    "    if x==3:\n",
    "        break\n",
    "else:\n",
    "    print(\"done\")"
   ]
  },
  {
   "cell_type": "code",
   "execution_count": 52,
   "id": "d42170c3",
   "metadata": {},
   "outputs": [
    {
     "name": "stdout",
     "output_type": "stream",
     "text": [
      "0 0\n",
      "0 1\n",
      "0 2\n",
      "1 0\n",
      "1 1\n",
      "1 2\n",
      "2 0\n",
      "2 1\n",
      "2 2\n",
      "[0, 1, 2, 0, 1, 2, 0, 1, 2]\n"
     ]
    }
   ],
   "source": [
    "s=[]\n",
    "for num1 in range(3):\n",
    "    for num2 in range(3):\n",
    "        print(num1,num2)\n",
    "        s.append(num2)\n",
    "print(s)"
   ]
  },
  {
   "cell_type": "code",
   "execution_count": 5,
   "id": "860485f2",
   "metadata": {},
   "outputs": [
    {
     "name": "stdout",
     "output_type": "stream",
     "text": [
      "[0, 1, 2, 3, 4, 0, 1, 2, 3, 4]\n"
     ]
    }
   ],
   "source": [
    "s=[num2 for num1 in range(2) for num2 in range (5)]\n",
    "print(s)"
   ]
  },
  {
   "cell_type": "code",
   "execution_count": 21,
   "id": "2249d9e2",
   "metadata": {},
   "outputs": [
    {
     "name": "stdout",
     "output_type": "stream",
     "text": [
      "0 1 2 3 4 0 1 2 3 4 "
     ]
    }
   ],
   "source": [
    "for num1 in range(2):\n",
    "    for num2 in range(5):\n",
    "        print(num2,end=\" \")"
   ]
  },
  {
   "cell_type": "code",
   "execution_count": 11,
   "id": "72051549",
   "metadata": {},
   "outputs": [
    {
     "data": {
      "text/plain": [
       "[0, 3, 6, 9]"
      ]
     },
     "execution_count": 11,
     "metadata": {},
     "output_type": "execute_result"
    }
   ],
   "source": [
    "nums=[i for i in range(10) if i%3==0]\n",
    "nums"
   ]
  },
  {
   "cell_type": "code",
   "execution_count": 7,
   "id": "5027dff2",
   "metadata": {},
   "outputs": [
    {
     "name": "stdout",
     "output_type": "stream",
     "text": [
      "[['k', 0, 1, 2, 3, 4], ['k', 0, 1, 2, 3, 4], ['k', 0, 1, 2, 3, 4]]\n"
     ]
    }
   ],
   "source": [
    "t=[]\n",
    "for i in range(3):\n",
    "    t.append(['k'])\n",
    "#print(t)\n",
    "    for j in range(5):\n",
    "        t[i].append(j)\n",
    "print(t)"
   ]
  },
  {
   "cell_type": "code",
   "execution_count": 9,
   "id": "11a53f16",
   "metadata": {},
   "outputs": [
    {
     "name": "stdout",
     "output_type": "stream",
     "text": [
      "[[1, 2, 3, 4, 5], [1, 2, 3, 4, 5], [1, 2, 3, 4, 5]]\n"
     ]
    }
   ],
   "source": [
    "t=[[num2 for num2 in range(1,6)] for num1 in range(3)]\n",
    "print(t)"
   ]
  },
  {
   "cell_type": "code",
   "execution_count": 16,
   "id": "0e80b32d",
   "metadata": {},
   "outputs": [
    {
     "name": "stdout",
     "output_type": "stream",
     "text": [
      "[1]\n",
      "[2]\n",
      "[3]\n",
      "[4]\n",
      "[5]\n",
      "[1]\n",
      "[2]\n",
      "[3]\n",
      "[4]\n",
      "[5]\n",
      "[1]\n",
      "[2]\n",
      "[3]\n",
      "[4]\n",
      "[5]\n"
     ]
    }
   ],
   "source": [
    "ksj=[]\n",
    "for num1 in range(3):\n",
    "    for num2 in range(1,6):\n",
    "        print([num2])"
   ]
  },
  {
   "cell_type": "code",
   "execution_count": 22,
   "id": "6fb9a11d",
   "metadata": {},
   "outputs": [],
   "source": [
    "y=[]\n",
    "for i in range(5):\n",
    "    y.append(i)\n",
    "\n",
    "    \n"
   ]
  },
  {
   "cell_type": "code",
   "execution_count": 58,
   "id": "27cd77be",
   "metadata": {},
   "outputs": [
    {
     "name": "stdout",
     "output_type": "stream",
     "text": [
      "[0, 1, 2, 3, 4]\n"
     ]
    }
   ],
   "source": [
    "print(y)"
   ]
  },
  {
   "cell_type": "code",
   "execution_count": 59,
   "id": "85aeb560",
   "metadata": {},
   "outputs": [
    {
     "name": "stdout",
     "output_type": "stream",
     "text": [
      "['Keep', 'smiling', 'because', 'life', 'is', 'a', 'beautiful', 'thing', 'and', 'theres', 'so', 'much', 'to', 'smile', 'about']\n",
      "K\n",
      "s\n",
      "b\n",
      "l\n",
      "i\n",
      "a\n",
      "b\n",
      "t\n",
      "a\n",
      "t\n",
      "s\n",
      "m\n",
      "t\n",
      "s\n",
      "a\n"
     ]
    }
   ],
   "source": [
    "quote=\"Keep smiling because life is a beautiful thing and theres so much to smile about\"\n",
    "x=quote.split(' ')\n",
    "print(x)\n",
    "for word in x:\n",
    "    t=word[0]\n",
    "    print(t)\n",
    "    "
   ]
  },
  {
   "cell_type": "code",
   "execution_count": 25,
   "id": "bccde755",
   "metadata": {},
   "outputs": [
    {
     "name": "stdout",
     "output_type": "stream",
     "text": [
      "K\n",
      "e\n",
      "e\n",
      "p\n",
      " \n",
      "s\n",
      "m\n",
      "i\n",
      "l\n",
      "i\n",
      "n\n",
      "g\n"
     ]
    }
   ],
   "source": [
    "c=\"Keep smiling\"\n",
    "for word in c:\n",
    "    print(word)\n"
   ]
  },
  {
   "cell_type": "code",
   "execution_count": 5,
   "id": "94d7c20c",
   "metadata": {},
   "outputs": [
    {
     "name": "stdout",
     "output_type": "stream",
     "text": [
      "sun\n",
      "mon\n",
      "tues\n",
      "wednes\n",
      "Thurs\n",
      "fri\n",
      "satur\n"
     ]
    }
   ],
   "source": [
    "days=[\"sunday\",\"monday\",\"tuesday\",\"wednesday\",\"Thursday\",\"friday\",\"saturday\"]\n",
    "for i in days:\n",
    "    i=i[:-3]\n",
    "    # i.remove[:-1]\n",
    "    print(i)"
   ]
  },
  {
   "cell_type": "code",
   "execution_count": 27,
   "id": "53ffede9",
   "metadata": {},
   "outputs": [
    {
     "name": "stdout",
     "output_type": "stream",
     "text": [
      "720\n"
     ]
    }
   ],
   "source": [
    "num=int(input(\"enter a number: \"))\n",
    "def factorial(num):\n",
    "    sam=1\n",
    "    for i in range(1,num+1):\n",
    "        #print(i)\n",
    "        sam=sam*i\n",
    "    print(sam)\n",
    "factorial(num)        "
   ]
  },
  {
   "cell_type": "code",
   "execution_count": 9,
   "id": "934464d5",
   "metadata": {},
   "outputs": [
    {
     "data": {
      "text/plain": [
       "190"
      ]
     },
     "execution_count": 9,
     "metadata": {},
     "output_type": "execute_result"
    }
   ],
   "source": [
    "def do_math(a, b):\n",
    "    return a + b\n",
    "\n",
    "\n",
    "\n",
    "do_math(160, 30)"
   ]
  },
  {
   "cell_type": "code",
   "execution_count": 17,
   "id": "b3eff6f0",
   "metadata": {},
   "outputs": [],
   "source": [
    "class dog:\n",
    "    def __init__ (self, breed, Name):\n",
    "        self.breed1=breed\n",
    "        self.name=Name\n",
    "    "
   ]
  },
  {
   "cell_type": "code",
   "execution_count": 18,
   "id": "ae4c8fde",
   "metadata": {},
   "outputs": [],
   "source": [
    "samobj=dog(breed='labbe',Name='jonny')\n",
    "frankobj=dog(breed='mappee',Name='junnu')\n",
    "sonobj=dog(breed='lab',Name='jhansi')"
   ]
  },
  {
   "cell_type": "code",
   "execution_count": 20,
   "id": "01134581",
   "metadata": {},
   "outputs": [
    {
     "data": {
      "text/plain": [
       "'labbe'"
      ]
     },
     "execution_count": 20,
     "metadata": {},
     "output_type": "execute_result"
    }
   ],
   "source": [
    "samobj.breed1"
   ]
  },
  {
   "cell_type": "code",
   "execution_count": null,
   "id": "530014a9",
   "metadata": {},
   "outputs": [],
   "source": []
  },
  {
   "cell_type": "code",
   "execution_count": 67,
   "id": "ddbf7d0d",
   "metadata": {},
   "outputs": [
    {
     "data": {
      "text/plain": [
       "'jonny'"
      ]
     },
     "execution_count": 67,
     "metadata": {},
     "output_type": "execute_result"
    }
   ],
   "source": [
    "samobj.name"
   ]
  },
  {
   "cell_type": "code",
   "execution_count": 68,
   "id": "a6537afb",
   "metadata": {},
   "outputs": [
    {
     "data": {
      "text/plain": [
       "'jhansi'"
      ]
     },
     "execution_count": 68,
     "metadata": {},
     "output_type": "execute_result"
    }
   ],
   "source": [
    "sonobj.name"
   ]
  },
  {
   "cell_type": "code",
   "execution_count": 69,
   "id": "2f346ad0",
   "metadata": {},
   "outputs": [
    {
     "data": {
      "text/plain": [
       "__main__.dog"
      ]
     },
     "execution_count": 69,
     "metadata": {},
     "output_type": "execute_result"
    }
   ],
   "source": [
    "dog"
   ]
  },
  {
   "cell_type": "code",
   "execution_count": 70,
   "id": "ab4735aa",
   "metadata": {},
   "outputs": [
    {
     "name": "stdout",
     "output_type": "stream",
     "text": [
      "John\n",
      "36\n"
     ]
    }
   ],
   "source": [
    "class Person:\n",
    "  def __init__(self, name, age):\n",
    "    self.name = name\n",
    "    self.age = age\n",
    "\n",
    "p1 = Person(\"John\", 36)\n",
    "\n",
    "print(p1.name)\n",
    "print(p1.age)"
   ]
  },
  {
   "cell_type": "code",
   "execution_count": 97,
   "id": "9b45ca66",
   "metadata": {},
   "outputs": [
    {
     "name": "stdout",
     "output_type": "stream",
     "text": [
      "John(36)\n"
     ]
    }
   ],
   "source": [
    "class Person:\n",
    "  def __init__(self, name, age):\n",
    "    self.name = name\n",
    "    self.age = age\n",
    "\n",
    "  def __str__(thummedha):\n",
    "    return f\"{thummedha.name}({thummedha.age})\"\n",
    "\n",
    "p1 = Person(\"John\", 36)\n",
    "  \n",
    "print(p1)"
   ]
  },
  {
   "cell_type": "code",
   "execution_count": 29,
   "id": "439c16df",
   "metadata": {},
   "outputs": [],
   "source": [
    "class Person:\n",
    "  def __init__(self, name, age):\n",
    "    self.name = name\n",
    "    self.age = age\n",
    "\n",
    "  def myfunc(selfi):\n",
    "    print(\"Hello my name is \" + selfi.name)\n",
    "\n",
    "p1 = Person(\"John\", 36)\n",
    "p1.myfunc()"
   ]
  },
  {
   "cell_type": "code",
   "execution_count": 46,
   "id": "3c1bbb4b",
   "metadata": {},
   "outputs": [
    {
     "name": "stdout",
     "output_type": "stream",
     "text": [
      "Hello my name is John\n"
     ]
    }
   ],
   "source": [
    "class Person:\n",
    "  def __init__(mysillyobject, name, age):\n",
    "    mysillyobject.name = name\n",
    "    mysillyobject.age = age\n",
    "\n",
    "  def myfunc(abc):\n",
    "    print(f\"Hello my name is \"  +abc.name )\n",
    "\n",
    "p1 = Person(\"John\", 36)\n",
    "p1.myfunc()"
   ]
  },
  {
   "cell_type": "code",
   "execution_count": 52,
   "id": "95b246e9",
   "metadata": {},
   "outputs": [],
   "source": [
    "p1.age = 40\n"
   ]
  },
  {
   "cell_type": "code",
   "execution_count": 53,
   "id": "2c6f9a02",
   "metadata": {},
   "outputs": [
    {
     "name": "stdout",
     "output_type": "stream",
     "text": [
      "40\n"
     ]
    }
   ],
   "source": [
    "print(p1.age)"
   ]
  },
  {
   "cell_type": "code",
   "execution_count": 54,
   "id": "1d6a83c8",
   "metadata": {},
   "outputs": [],
   "source": [
    "#del p1.age"
   ]
  },
  {
   "cell_type": "code",
   "execution_count": 55,
   "id": "27193924",
   "metadata": {},
   "outputs": [
    {
     "name": "stdout",
     "output_type": "stream",
     "text": [
      "40\n"
     ]
    }
   ],
   "source": [
    "print(p1.age)"
   ]
  },
  {
   "cell_type": "code",
   "execution_count": 64,
   "id": "428a7ec5",
   "metadata": {},
   "outputs": [],
   "source": [
    "#radius=int(input(\"enter radius:\"))\n",
    "class circle:\n",
    "    def __init__ (mama,radius=1):\n",
    "        mama.radius=radius\n",
    "        mama.area=radius*radius*3.14\n",
    "        mama.circume=2*radius\n",
    "        mama.a=348237\n",
    "    def circumference(self):\n",
    "        self.b=82947\n",
    "        return self.radius*3.14*2"
   ]
  },
  {
   "cell_type": "code",
   "execution_count": 65,
   "id": "1bf76781",
   "metadata": {},
   "outputs": [
    {
     "name": "stdout",
     "output_type": "stream",
     "text": [
      "area of circle :  50.24\n",
      "circumference of circle :  25.12\n",
      "circume: 8\n"
     ]
    }
   ],
   "source": [
    "c=circle(4)\n",
    "print(f\"area of circle : \",c.area)\n",
    "print(f\"circumference of circle : \",c.circumference())\n",
    "print(f\"circume:\",c.circume)"
   ]
  },
  {
   "cell_type": "code",
   "execution_count": 120,
   "id": "c0e470a5",
   "metadata": {},
   "outputs": [
    {
     "data": {
      "text/plain": [
       "177.4728"
      ]
     },
     "execution_count": 120,
     "metadata": {},
     "output_type": "execute_result"
    }
   ],
   "source": [
    "2*3.14*28.26"
   ]
  },
  {
   "cell_type": "code",
   "execution_count": 121,
   "id": "6a974e7b",
   "metadata": {},
   "outputs": [
    {
     "data": {
      "text/plain": [
       "348237"
      ]
     },
     "execution_count": 121,
     "metadata": {},
     "output_type": "execute_result"
    }
   ],
   "source": [
    "c.a"
   ]
  },
  {
   "cell_type": "code",
   "execution_count": 122,
   "id": "d94fe0bd",
   "metadata": {},
   "outputs": [
    {
     "data": {
      "text/plain": [
       "82947"
      ]
     },
     "execution_count": 122,
     "metadata": {},
     "output_type": "execute_result"
    }
   ],
   "source": [
    "c.b"
   ]
  },
  {
   "cell_type": "code",
   "execution_count": 70,
   "id": "2731af34",
   "metadata": {},
   "outputs": [],
   "source": [
    "class khader:\n",
    "    def __init__ (self,name):\n",
    "        self.name=name\n",
    "    def motto(self):\n",
    "        return \"my name is \"+self.name+\" basha\""
   ]
  },
  {
   "cell_type": "code",
   "execution_count": 71,
   "id": "7ccd79f6",
   "metadata": {},
   "outputs": [],
   "source": [
    "class basha:\n",
    "    def __init__ (self,name):\n",
    "        self.name=name\n",
    "    def moto(self):\n",
    "        return (f\"my lastname is {self.name} naguri\")"
   ]
  },
  {
   "cell_type": "code",
   "execution_count": 72,
   "id": "ca44e494",
   "metadata": {},
   "outputs": [],
   "source": [
    "voo=khader('Khader')\n",
    "boo=basha('basha')"
   ]
  },
  {
   "cell_type": "code",
   "execution_count": 73,
   "id": "18dffa1f",
   "metadata": {},
   "outputs": [
    {
     "name": "stdout",
     "output_type": "stream",
     "text": [
      "my name is Khader basha\n"
     ]
    }
   ],
   "source": [
    "print(voo.motto())"
   ]
  },
  {
   "cell_type": "code",
   "execution_count": 74,
   "id": "6decc5bb",
   "metadata": {},
   "outputs": [
    {
     "name": "stdout",
     "output_type": "stream",
     "text": [
      "my lastname is basha naguri\n"
     ]
    }
   ],
   "source": [
    "print(boo.moto())"
   ]
  },
  {
   "cell_type": "code",
   "execution_count": 77,
   "id": "8e5c60c1",
   "metadata": {},
   "outputs": [
    {
     "name": "stdout",
     "output_type": "stream",
     "text": [
      "Hello khadwe\n"
     ]
    }
   ],
   "source": [
    "x=input()\n",
    "print(\"Hello \" +x)"
   ]
  },
  {
   "cell_type": "code",
   "execution_count": 79,
   "id": "8325bd1d",
   "metadata": {},
   "outputs": [],
   "source": [
    "class Name:\n",
    "    def __init__ (self,name):\n",
    "        self.name=name\n",
    "    def komaram(self):\n",
    "        return (f\"my full name is {self.name}\")\n",
    "    \n",
    "        "
   ]
  },
  {
   "cell_type": "code",
   "execution_count": 80,
   "id": "2627e246",
   "metadata": {},
   "outputs": [],
   "source": [
    "y=Name('Khader Basha')\n"
   ]
  },
  {
   "cell_type": "code",
   "execution_count": 82,
   "id": "a00365ea",
   "metadata": {},
   "outputs": [
    {
     "name": "stdout",
     "output_type": "stream",
     "text": [
      "my full name is Khader Basha\n"
     ]
    }
   ],
   "source": [
    "print(y.komaram())"
   ]
  },
  {
   "cell_type": "code",
   "execution_count": 87,
   "id": "ecba988d",
   "metadata": {},
   "outputs": [
    {
     "name": "stdout",
     "output_type": "stream",
     "text": [
      "<class '__main__.khader'>\n",
      "over\n"
     ]
    }
   ],
   "source": [
    "try:\n",
    "    print(khader)\n",
    "except:\n",
    "    print(\"dumbas\")\n",
    "        \n",
    "finally:\n",
    "    print(\"over\")"
   ]
  },
  {
   "cell_type": "code",
   "execution_count": 89,
   "id": "afe707a5",
   "metadata": {},
   "outputs": [
    {
     "name": "stdout",
     "output_type": "stream",
     "text": [
      "*\n",
      "**\n",
      "***\n",
      "****\n",
      "*****\n"
     ]
    }
   ],
   "source": [
    "n=int(input(\"enter a num: \"))\n",
    "\n",
    "for i in range(1,n+1):\n",
    "    print(\"*\"*i)"
   ]
  },
  {
   "cell_type": "code",
   "execution_count": 90,
   "id": "d189c487",
   "metadata": {},
   "outputs": [
    {
     "name": "stdout",
     "output_type": "stream",
     "text": [
      "*****\n",
      "*****\n",
      "*****\n",
      "*****\n",
      "*****\n",
      "*****\n"
     ]
    }
   ],
   "source": [
    "n=int(input('enter the number of rows'))\n",
    "for i in range(n):\n",
    "    print('*'*5)\n"
   ]
  },
  {
   "cell_type": "code",
   "execution_count": 28,
   "id": "bf6ff50d",
   "metadata": {},
   "outputs": [
    {
     "name": "stdout",
     "output_type": "stream",
     "text": [
      "enter the number of rows:6\n",
      "     * \n",
      "    * * \n",
      "   * * * \n",
      "  * * * * \n",
      " * * * * * \n",
      "* * * * * * \n"
     ]
    }
   ],
   "source": [
    "n=int(input('enter the number of rows:'))\n",
    "for i in range(1,n+1):\n",
    "    print((n-i)*(' ')+('* ')*i)"
   ]
  },
  {
   "cell_type": "code",
   "execution_count": 91,
   "id": "6828f485",
   "metadata": {},
   "outputs": [
    {
     "name": "stdout",
     "output_type": "stream",
     "text": [
      "* * * * * * \n",
      " * * * * * \n",
      "  * * * * \n",
      "   * * * \n",
      "    * * \n",
      "     * \n"
     ]
    }
   ],
   "source": [
    "p=int(input(\"enter a num:\"))\n",
    "for i in range(p,0,-1):\n",
    "    print((' ')*(p-i)+('* ')*i)"
   ]
  },
  {
   "cell_type": "code",
   "execution_count": 37,
   "id": "46fb6702",
   "metadata": {},
   "outputs": [
    {
     "name": "stdout",
     "output_type": "stream",
     "text": [
      "enter a num:76567\n",
      "5\n"
     ]
    }
   ],
   "source": [
    "p=int(input(\"enter a num:\"))\n",
    "count=0\n",
    "while (p>0):\n",
    "    p=p//10\n",
    "    count=count+1\n",
    "print(count)"
   ]
  },
  {
   "cell_type": "code",
   "execution_count": 92,
   "id": "f4a2fbe6",
   "metadata": {},
   "outputs": [
    {
     "name": "stdout",
     "output_type": "stream",
     "text": [
      "10 40 30\n",
      "nice\n",
      "aithe\n"
     ]
    }
   ],
   "source": [
    "class base():\n",
    "    a=10\n",
    "    b=20\n",
    "    def jam(dhur):\n",
    "        print(\"nice\")\n",
    "class derived(base):\n",
    "    c=30\n",
    "    d=40\n",
    "    def gulab(self):\n",
    "        print(\"aithe\")\n",
    "dobject=derived()\n",
    "print(dobject.a,dobject.d,dobject.c)\n",
    "dobject.jam()\n",
    "dobject.gulab()"
   ]
  },
  {
   "cell_type": "code",
   "execution_count": 93,
   "id": "ed5e932e",
   "metadata": {},
   "outputs": [
    {
     "ename": "IndentationError",
     "evalue": "expected an indented block after function definition on line 7 (1172369657.py, line 9)",
     "output_type": "error",
     "traceback": [
      "\u001b[1;36m  Cell \u001b[1;32mIn[93], line 9\u001b[1;36m\u001b[0m\n\u001b[1;33m    obj=demo()\u001b[0m\n\u001b[1;37m              ^\u001b[0m\n\u001b[1;31mIndentationError\u001b[0m\u001b[1;31m:\u001b[0m expected an indented block after function definition on line 7\n"
     ]
    }
   ],
   "source": [
    "class demo():\n",
    "    _a=10\n",
    "    b=100\n",
    "    def display(self):\n",
    "        print(self._a)\n",
    "        print(\"uuwen\")\n",
    "    def show(self):\n",
    "        \n",
    "objy=demo()\n",
    "print(objy._a)\n",
    "print(objy.b)\n",
    "objy.display()"
   ]
  },
  {
   "cell_type": "code",
   "execution_count": 94,
   "id": "4213c0a6",
   "metadata": {},
   "outputs": [],
   "source": [
    "import os"
   ]
  },
  {
   "cell_type": "code",
   "execution_count": 95,
   "id": "cda12c14",
   "metadata": {},
   "outputs": [
    {
     "data": {
      "text/plain": [
       "'c:\\\\Users\\\\nagur\\\\.ipynb_checkpoints'"
      ]
     },
     "execution_count": 95,
     "metadata": {},
     "output_type": "execute_result"
    }
   ],
   "source": [
    "os.getcwd()"
   ]
  },
  {
   "cell_type": "code",
   "execution_count": 96,
   "id": "90aadf94",
   "metadata": {},
   "outputs": [],
   "source": [
    "os.mkdir(\"bashank\")"
   ]
  },
  {
   "cell_type": "code",
   "execution_count": 97,
   "id": "d9ccafef",
   "metadata": {},
   "outputs": [
    {
     "data": {
      "text/plain": [
       "['Allpy-checkpoint.ipynb',\n",
       " 'Array-checkpoint.ipynb',\n",
       " 'bashank',\n",
       " 'DAA lb9-checkpoint.ipynb',\n",
       " 'Day10-checkpoint.ipynb',\n",
       " 'Day12-checkpoint.ipynb',\n",
       " 'Day16-checkpoint.ipynb',\n",
       " 'Day9-checkpoint.ipynb',\n",
       " 'Empty-checkpoint.ipynb',\n",
       " 'Hamiltonian-checkpoint.ipynb',\n",
       " 'knapsack-checkpoint.ipynb',\n",
       " 'KNN -checkpoint.ipynb',\n",
       " 'KNN -Copy1-checkpoint.ipynb',\n",
       " 'KNN Model-checkpoint.ipynb',\n",
       " 'Lab 3 DAA-checkpoint.ipynb',\n",
       " 'LCS-checkpoint.ipynb',\n",
       " 'Ninja-checkpoint.ipynb',\n",
       " 'python by siva-checkpoint.ipynb',\n",
       " 'Salary_Data set-checkpoint.ipynb',\n",
       " 'sepal petal-checkpoint.ipynb',\n",
       " 'Simple Linear Regression-checkpoint.ipynb',\n",
       " 'siva teach-checkpoint.ipynb',\n",
       " 'Subset sum -checkpoint.ipynb',\n",
       " 'svm image classi-checkpoint.ipynb',\n",
       " 'SVM LAB-checkpoint.ipynb',\n",
       " 'svm-checkpoint.ipynb',\n",
       " 'tract-checkpoint.ipynb',\n",
       " 'Travelling-checkpoint.ipynb',\n",
       " 'udemypractice-checkpoint.ipynb',\n",
       " 'Untitled-checkpoint.ipynb',\n",
       " 'Untitled1-checkpoint.ipynb',\n",
       " 'Untitled10-checkpoint.ipynb',\n",
       " 'Untitled11-checkpoint.ipynb',\n",
       " 'Untitled12-checkpoint.ipynb',\n",
       " 'Untitled13-checkpoint.ipynb',\n",
       " 'Untitled14-checkpoint.ipynb',\n",
       " 'Untitled15-checkpoint.ipynb',\n",
       " 'Untitled16-checkpoint.ipynb',\n",
       " 'Untitled17-checkpoint.ipynb',\n",
       " 'Untitled18-checkpoint.ipynb',\n",
       " 'Untitled19-checkpoint.ipynb',\n",
       " 'Untitled2-checkpoint.ipynb',\n",
       " 'Untitled20-checkpoint.ipynb',\n",
       " 'Untitled21-checkpoint.ipynb',\n",
       " 'Untitled22-checkpoint.ipynb',\n",
       " 'Untitled23-checkpoint.ipynb',\n",
       " 'Untitled24-checkpoint.ipynb',\n",
       " 'Untitled25-checkpoint.ipynb',\n",
       " 'Untitled26-checkpoint.ipynb',\n",
       " 'Untitled27-checkpoint.ipynb',\n",
       " 'Untitled28-checkpoint.ipynb',\n",
       " 'Untitled3-checkpoint.ipynb',\n",
       " 'Untitled30-checkpoint.ipynb',\n",
       " 'Untitled31-checkpoint.ipynb',\n",
       " 'Untitled32-checkpoint.ipynb',\n",
       " 'Untitled33-checkpoint.ipynb',\n",
       " 'Untitled34-checkpoint.ipynb',\n",
       " 'Untitled35-checkpoint.ipynb',\n",
       " 'Untitled36-checkpoint.ipynb',\n",
       " 'Untitled37-checkpoint.ipynb',\n",
       " 'Untitled38-checkpoint.ipynb',\n",
       " 'Untitled39-checkpoint.ipynb',\n",
       " 'Untitled4-checkpoint.ipynb',\n",
       " 'Untitled40-checkpoint.ipynb',\n",
       " 'Untitled41-checkpoint.ipynb',\n",
       " 'Untitled42-checkpoint.ipynb',\n",
       " 'Untitled43-checkpoint.ipynb',\n",
       " 'Untitled44-checkpoint.ipynb',\n",
       " 'Untitled45-checkpoint.ipynb',\n",
       " 'Untitled46-checkpoint.ipynb',\n",
       " 'Untitled47-checkpoint.ipynb',\n",
       " 'Untitled5-checkpoint.ipynb',\n",
       " 'Untitled6-checkpoint.ipynb',\n",
       " 'Untitled7-checkpoint.ipynb',\n",
       " 'Untitled8-checkpoint.ipynb',\n",
       " 'Untitled9-checkpoint.ipynb',\n",
       " 'w3py-checkpoint.ipynb',\n",
       " 'while loop-checkpoint.ipynb']"
      ]
     },
     "execution_count": 97,
     "metadata": {},
     "output_type": "execute_result"
    }
   ],
   "source": [
    "os.listdir()"
   ]
  },
  {
   "cell_type": "code",
   "execution_count": 98,
   "id": "d8c79005",
   "metadata": {},
   "outputs": [
    {
     "data": {
      "text/plain": [
       "['DirEntry',\n",
       " 'F_OK',\n",
       " 'GenericAlias',\n",
       " 'Mapping',\n",
       " 'MutableMapping',\n",
       " 'O_APPEND',\n",
       " 'O_BINARY',\n",
       " 'O_CREAT',\n",
       " 'O_EXCL',\n",
       " 'O_NOINHERIT',\n",
       " 'O_RANDOM',\n",
       " 'O_RDONLY',\n",
       " 'O_RDWR',\n",
       " 'O_SEQUENTIAL',\n",
       " 'O_SHORT_LIVED',\n",
       " 'O_TEMPORARY',\n",
       " 'O_TEXT',\n",
       " 'O_TRUNC',\n",
       " 'O_WRONLY',\n",
       " 'P_DETACH',\n",
       " 'P_NOWAIT',\n",
       " 'P_NOWAITO',\n",
       " 'P_OVERLAY',\n",
       " 'P_WAIT',\n",
       " 'PathLike',\n",
       " 'R_OK',\n",
       " 'SEEK_CUR',\n",
       " 'SEEK_END',\n",
       " 'SEEK_SET',\n",
       " 'TMP_MAX',\n",
       " 'W_OK',\n",
       " 'X_OK',\n",
       " '_AddedDllDirectory',\n",
       " '_Environ',\n",
       " '__all__',\n",
       " '__builtins__',\n",
       " '__cached__',\n",
       " '__doc__',\n",
       " '__file__',\n",
       " '__loader__',\n",
       " '__name__',\n",
       " '__package__',\n",
       " '__spec__',\n",
       " '_check_methods',\n",
       " '_execvpe',\n",
       " '_exists',\n",
       " '_exit',\n",
       " '_fspath',\n",
       " '_get_exports_list',\n",
       " '_walk',\n",
       " '_wrap_close',\n",
       " 'abc',\n",
       " 'abort',\n",
       " 'access',\n",
       " 'add_dll_directory',\n",
       " 'altsep',\n",
       " 'chdir',\n",
       " 'chmod',\n",
       " 'close',\n",
       " 'closerange',\n",
       " 'cpu_count',\n",
       " 'curdir',\n",
       " 'defpath',\n",
       " 'device_encoding',\n",
       " 'devnull',\n",
       " 'dup',\n",
       " 'dup2',\n",
       " 'environ',\n",
       " 'error',\n",
       " 'execl',\n",
       " 'execle',\n",
       " 'execlp',\n",
       " 'execlpe',\n",
       " 'execv',\n",
       " 'execve',\n",
       " 'execvp',\n",
       " 'execvpe',\n",
       " 'extsep',\n",
       " 'fdopen',\n",
       " 'fsdecode',\n",
       " 'fsencode',\n",
       " 'fspath',\n",
       " 'fstat',\n",
       " 'fsync',\n",
       " 'ftruncate',\n",
       " 'get_exec_path',\n",
       " 'get_handle_inheritable',\n",
       " 'get_inheritable',\n",
       " 'get_terminal_size',\n",
       " 'getcwd',\n",
       " 'getcwdb',\n",
       " 'getenv',\n",
       " 'getlogin',\n",
       " 'getpid',\n",
       " 'getppid',\n",
       " 'isatty',\n",
       " 'kill',\n",
       " 'linesep',\n",
       " 'link',\n",
       " 'listdir',\n",
       " 'lseek',\n",
       " 'lstat',\n",
       " 'makedirs',\n",
       " 'mkdir',\n",
       " 'name',\n",
       " 'open',\n",
       " 'pardir',\n",
       " 'path',\n",
       " 'pathsep',\n",
       " 'pipe',\n",
       " 'popen',\n",
       " 'putenv',\n",
       " 'read',\n",
       " 'readlink',\n",
       " 'remove',\n",
       " 'removedirs',\n",
       " 'rename',\n",
       " 'renames',\n",
       " 'replace',\n",
       " 'rmdir',\n",
       " 'scandir',\n",
       " 'sep',\n",
       " 'set_handle_inheritable',\n",
       " 'set_inheritable',\n",
       " 'spawnl',\n",
       " 'spawnle',\n",
       " 'spawnv',\n",
       " 'spawnve',\n",
       " 'st',\n",
       " 'startfile',\n",
       " 'stat',\n",
       " 'stat_result',\n",
       " 'statvfs_result',\n",
       " 'strerror',\n",
       " 'supports_bytes_environ',\n",
       " 'supports_dir_fd',\n",
       " 'supports_effective_ids',\n",
       " 'supports_fd',\n",
       " 'supports_follow_symlinks',\n",
       " 'symlink',\n",
       " 'sys',\n",
       " 'system',\n",
       " 'terminal_size',\n",
       " 'times',\n",
       " 'times_result',\n",
       " 'truncate',\n",
       " 'umask',\n",
       " 'uname_result',\n",
       " 'unlink',\n",
       " 'unsetenv',\n",
       " 'urandom',\n",
       " 'utime',\n",
       " 'waitpid',\n",
       " 'waitstatus_to_exitcode',\n",
       " 'walk',\n",
       " 'write']"
      ]
     },
     "execution_count": 98,
     "metadata": {},
     "output_type": "execute_result"
    }
   ],
   "source": [
    "dir(os)"
   ]
  },
  {
   "cell_type": "code",
   "execution_count": 99,
   "id": "16e00731",
   "metadata": {},
   "outputs": [
    {
     "data": {
      "text/plain": [
       "<module 'ntpath' from 'c:\\\\Users\\\\nagur\\\\AppData\\\\Local\\\\Programs\\\\Python\\\\Python310\\\\lib\\\\ntpath.py'>"
      ]
     },
     "execution_count": 99,
     "metadata": {},
     "output_type": "execute_result"
    }
   ],
   "source": [
    "os.path"
   ]
  },
  {
   "cell_type": "code",
   "execution_count": 101,
   "id": "69975121",
   "metadata": {},
   "outputs": [],
   "source": [
    "os.rmdir(\"bashank\")"
   ]
  },
  {
   "cell_type": "code",
   "execution_count": 102,
   "id": "81e3d81b",
   "metadata": {},
   "outputs": [
    {
     "data": {
      "text/plain": [
       "['Allpy-checkpoint.ipynb',\n",
       " 'Array-checkpoint.ipynb',\n",
       " 'DAA lb9-checkpoint.ipynb',\n",
       " 'Day10-checkpoint.ipynb',\n",
       " 'Day12-checkpoint.ipynb',\n",
       " 'Day16-checkpoint.ipynb',\n",
       " 'Day9-checkpoint.ipynb',\n",
       " 'Empty-checkpoint.ipynb',\n",
       " 'Hamiltonian-checkpoint.ipynb',\n",
       " 'knapsack-checkpoint.ipynb',\n",
       " 'KNN -checkpoint.ipynb',\n",
       " 'KNN -Copy1-checkpoint.ipynb',\n",
       " 'KNN Model-checkpoint.ipynb',\n",
       " 'Lab 3 DAA-checkpoint.ipynb',\n",
       " 'LCS-checkpoint.ipynb',\n",
       " 'Ninja-checkpoint.ipynb',\n",
       " 'python by siva-checkpoint.ipynb',\n",
       " 'Salary_Data set-checkpoint.ipynb',\n",
       " 'sepal petal-checkpoint.ipynb',\n",
       " 'Simple Linear Regression-checkpoint.ipynb',\n",
       " 'siva teach-checkpoint.ipynb',\n",
       " 'Subset sum -checkpoint.ipynb',\n",
       " 'svm image classi-checkpoint.ipynb',\n",
       " 'SVM LAB-checkpoint.ipynb',\n",
       " 'svm-checkpoint.ipynb',\n",
       " 'tract-checkpoint.ipynb',\n",
       " 'Travelling-checkpoint.ipynb',\n",
       " 'udemypractice-checkpoint.ipynb',\n",
       " 'Untitled-checkpoint.ipynb',\n",
       " 'Untitled1-checkpoint.ipynb',\n",
       " 'Untitled10-checkpoint.ipynb',\n",
       " 'Untitled11-checkpoint.ipynb',\n",
       " 'Untitled12-checkpoint.ipynb',\n",
       " 'Untitled13-checkpoint.ipynb',\n",
       " 'Untitled14-checkpoint.ipynb',\n",
       " 'Untitled15-checkpoint.ipynb',\n",
       " 'Untitled16-checkpoint.ipynb',\n",
       " 'Untitled17-checkpoint.ipynb',\n",
       " 'Untitled18-checkpoint.ipynb',\n",
       " 'Untitled19-checkpoint.ipynb',\n",
       " 'Untitled2-checkpoint.ipynb',\n",
       " 'Untitled20-checkpoint.ipynb',\n",
       " 'Untitled21-checkpoint.ipynb',\n",
       " 'Untitled22-checkpoint.ipynb',\n",
       " 'Untitled23-checkpoint.ipynb',\n",
       " 'Untitled24-checkpoint.ipynb',\n",
       " 'Untitled25-checkpoint.ipynb',\n",
       " 'Untitled26-checkpoint.ipynb',\n",
       " 'Untitled27-checkpoint.ipynb',\n",
       " 'Untitled28-checkpoint.ipynb',\n",
       " 'Untitled3-checkpoint.ipynb',\n",
       " 'Untitled30-checkpoint.ipynb',\n",
       " 'Untitled31-checkpoint.ipynb',\n",
       " 'Untitled32-checkpoint.ipynb',\n",
       " 'Untitled33-checkpoint.ipynb',\n",
       " 'Untitled34-checkpoint.ipynb',\n",
       " 'Untitled35-checkpoint.ipynb',\n",
       " 'Untitled36-checkpoint.ipynb',\n",
       " 'Untitled37-checkpoint.ipynb',\n",
       " 'Untitled38-checkpoint.ipynb',\n",
       " 'Untitled39-checkpoint.ipynb',\n",
       " 'Untitled4-checkpoint.ipynb',\n",
       " 'Untitled40-checkpoint.ipynb',\n",
       " 'Untitled41-checkpoint.ipynb',\n",
       " 'Untitled42-checkpoint.ipynb',\n",
       " 'Untitled43-checkpoint.ipynb',\n",
       " 'Untitled44-checkpoint.ipynb',\n",
       " 'Untitled45-checkpoint.ipynb',\n",
       " 'Untitled46-checkpoint.ipynb',\n",
       " 'Untitled47-checkpoint.ipynb',\n",
       " 'Untitled5-checkpoint.ipynb',\n",
       " 'Untitled6-checkpoint.ipynb',\n",
       " 'Untitled7-checkpoint.ipynb',\n",
       " 'Untitled8-checkpoint.ipynb',\n",
       " 'Untitled9-checkpoint.ipynb',\n",
       " 'w3py-checkpoint.ipynb',\n",
       " 'while loop-checkpoint.ipynb']"
      ]
     },
     "execution_count": 102,
     "metadata": {},
     "output_type": "execute_result"
    }
   ],
   "source": [
    "os.listdir()"
   ]
  },
  {
   "cell_type": "code",
   "execution_count": null,
   "id": "40284bad",
   "metadata": {},
   "outputs": [],
   "source": [
    "'''import sys\n",
    "print(sys.argv)\n",
    "\n",
    "a=int(sys.argv[1])\n",
    "b=int(sys.argv[2])\n",
    "print(\"sum = \", a+b)'''"
   ]
  },
  {
   "cell_type": "code",
   "execution_count": 103,
   "id": "8d09af49",
   "metadata": {},
   "outputs": [],
   "source": [
    "import datetime "
   ]
  },
  {
   "cell_type": "code",
   "execution_count": 108,
   "id": "90d6160e",
   "metadata": {},
   "outputs": [
    {
     "ename": "AttributeError",
     "evalue": "module 'datetime' has no attribute 'now'",
     "output_type": "error",
     "traceback": [
      "\u001b[1;31m---------------------------------------------------------------------------\u001b[0m",
      "\u001b[1;31mAttributeError\u001b[0m                            Traceback (most recent call last)",
      "Cell \u001b[1;32mIn[108], line 3\u001b[0m\n\u001b[0;32m      1\u001b[0m \u001b[39mfrom\u001b[39;00m \u001b[39mdatetime\u001b[39;00m \u001b[39mimport\u001b[39;00m time\n\u001b[0;32m      2\u001b[0m date\u001b[39m.\u001b[39mtoday()\n\u001b[1;32m----> 3\u001b[0m datetime\u001b[39m.\u001b[39;49mnow(tz\u001b[39m=\u001b[39m\u001b[39mNone\u001b[39;00m)\n",
      "\u001b[1;31mAttributeError\u001b[0m: module 'datetime' has no attribute 'now'"
     ]
    }
   ],
   "source": [
    "from datetime import time\n",
    "date.today()\n",
    "datetime.now(tz=None)"
   ]
  },
  {
   "cell_type": "code",
   "execution_count": 21,
   "id": "4c40befd",
   "metadata": {},
   "outputs": [
    {
     "name": "stdout",
     "output_type": "stream",
     "text": [
      "[24, 15, 30, 16]\n"
     ]
    },
    {
     "ename": "KeyboardInterrupt",
     "evalue": "",
     "output_type": "error",
     "traceback": [
      "\u001b[1;31m---------------------------------------------------------------------------\u001b[0m",
      "\u001b[1;31mKeyboardInterrupt\u001b[0m                         Traceback (most recent call last)",
      "Cell \u001b[1;32mIn[21], line 9\u001b[0m\n\u001b[0;32m      7\u001b[0m     \u001b[39mmin\u001b[39m\u001b[39m=\u001b[39m\u001b[39mmin\u001b[39m\u001b[39m+\u001b[39m[y]\n\u001b[0;32m      8\u001b[0m \u001b[39mprint\u001b[39m(\u001b[39mmin\u001b[39m)\n\u001b[1;32m----> 9\u001b[0m \u001b[39mwhile\u001b[39;00m(\u001b[39mTrue\u001b[39;00m):\n\u001b[0;32m     10\u001b[0m     \u001b[39mfor\u001b[39;00m i \u001b[39min\u001b[39;00m \u001b[39mrange\u001b[39m (\u001b[39m0\u001b[39m,x\u001b[39m-\u001b[39m\u001b[39m1\u001b[39m):\n\u001b[0;32m     11\u001b[0m         \u001b[39mif\u001b[39;00m(\u001b[39mmin\u001b[39m[i]\u001b[39m>\u001b[39m\u001b[39mmin\u001b[39m[i\u001b[39m+\u001b[39m\u001b[39m1\u001b[39m]):\n",
      "\u001b[1;31mKeyboardInterrupt\u001b[0m: "
     ]
    }
   ],
   "source": [
    "x=int(input(\"Enter the number of inputs : \"))\n",
    "min=[]\n",
    "temp=0\n",
    "while(x>0):\n",
    "    y=int(input(\"Enter number\"))\n",
    "    x=x-1\n",
    "    min=min+[y]\n",
    "print(min)\n",
    "while(True):\n",
    "    for i in range (0,x-1):\n",
    "        if(min[i]>min[i+1]):\n",
    "            temp = min[i]\n",
    "            min[i]=min[i+1]\n",
    "            min[i+1]=temp\n",
    "for j in range (0,x-1):\n",
    "    print(y)\n",
    "    \n",
    "     \n",
    "    \n",
    "    \n",
    "    "
   ]
  },
  {
   "cell_type": "code",
   "execution_count": 46,
   "id": "40e2d0f2",
   "metadata": {},
   "outputs": [
    {
     "name": "stdout",
     "output_type": "stream",
     "text": [
      "3\n"
     ]
    }
   ],
   "source": [
    "x=int(input(\"Enter the number : \"))\n",
    "count=0\n",
    "count1=0\n",
    "for i in range(1,x):\n",
    "    for j in range(1,i+1):\n",
    "        count+=1\n",
    "        if(count==x):\n",
    "            break\n",
    "    \n",
    "    if(count==x):\n",
    "        break\n",
    "    count1+=1 \n",
    "print(count1)\n",
    "    \n",
    "            \n",
    "    "
   ]
  },
  {
   "cell_type": "code",
   "execution_count": 22,
   "metadata": {},
   "outputs": [
    {
     "name": "stdout",
     "output_type": "stream",
     "text": [
      "100\n"
     ]
    }
   ],
   "source": [
    "x=int(input(\"enter a num\"))\n",
    "y=int(input(\"enter a num2\"))\n",
    "z=x+y\n",
    "print(z)\n"
   ]
  }
 ],
 "metadata": {
  "kernelspec": {
   "display_name": "Python 3 (ipykernel)",
   "language": "python",
   "name": "python3"
  },
  "language_info": {
   "codemirror_mode": {
    "name": "ipython",
    "version": 3
   },
   "file_extension": ".py",
   "mimetype": "text/x-python",
   "name": "python",
   "nbconvert_exporter": "python",
   "pygments_lexer": "ipython3",
   "version": "3.10.4"
  }
 },
 "nbformat": 4,
 "nbformat_minor": 5
}
